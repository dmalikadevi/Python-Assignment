{
 "cells": [
  {
   "cell_type": "code",
   "execution_count": null,
   "metadata": {},
   "outputs": [],
   "source": [
    "Write a Python Program(with class concepts) to find the area of the triangle using the below\n",
    "formula. Area = (s*(s-a)*(s-b)*(s-c)) ** 0.5"
   ]
  },
  {
   "cell_type": "code",
   "execution_count": 7,
   "metadata": {},
   "outputs": [],
   "source": [
    "class TriangleVariables:\n",
    "    def __init__(self):\n",
    "        self.a = int(input(\"Enter a : \"))\n",
    "        self.b = int(input(\"Enter b : \"))\n",
    "        self.c = int(input(\"Enter c : \"))\n",
    "        self.s = (self.a + self.b + self.c) / 2\n",
    "\n",
    "class AreaOfTriangle(TriangleVariables):\n",
    "    def calarea(self):\n",
    "        return (self.s * (self.s - self.a) * (self.s - self.b) * (self.s - self.c)) ** 0.5"
   ]
  },
  {
   "cell_type": "code",
   "execution_count": 8,
   "metadata": {},
   "outputs": [
    {
     "name": "stdout",
     "output_type": "stream",
     "text": [
      "Enter a : 5\n",
      "Enter b : 7\n",
      "Enter c : 8\n",
      "Area of the triangle is : 17.320508075688775\n"
     ]
    }
   ],
   "source": [
    "a1 = AreaOfTriangle()\n",
    "print(\"Area of the triangle is :\", a1.calarea())"
   ]
  },
  {
   "cell_type": "code",
   "execution_count": null,
   "metadata": {},
   "outputs": [],
   "source": [
    "Write a function filter_long_words() that takes a list of words and an integer n and returns the list of words that are longer than n."
   ]
  },
  {
   "cell_type": "code",
   "execution_count": 15,
   "metadata": {},
   "outputs": [
    {
     "name": "stdout",
     "output_type": "stream",
     "text": [
      "Enter the integer value within 10 : 4\n"
     ]
    },
    {
     "data": {
      "text/plain": [
       "['returns', 'words']"
      ]
     },
     "execution_count": 15,
     "metadata": {},
     "output_type": "execute_result"
    }
   ],
   "source": [
    "def filter_long_words(word, num):\n",
    "    listOfLongWords = []\n",
    "    for i in word:\n",
    "        if len(i) > num:\n",
    "            listOfLongWords.append(i)\n",
    "    return listOfLongWords\n",
    "\n",
    "\n",
    "words = [\"func\", \"that\", \"returns\", \"all\", \"long\", \"words\"]\n",
    "n = int(input(\"Enter the integer value within 10 : \"))\n",
    "filter_long_words(words, n)"
   ]
  },
  {
   "cell_type": "code",
   "execution_count": null,
   "metadata": {},
   "outputs": [],
   "source": [
    "Write a Python program using function concept that maps list of words into a list of integers representing the lengths of the corresponding words.\n",
    "Hint: If a list [ ab,cde,erty] is passed on to the python function output should come as [2,3,4]"
   ]
  },
  {
   "cell_type": "code",
   "execution_count": 60,
   "metadata": {},
   "outputs": [
    {
     "data": {
      "text/plain": [
       "[2, 3, 4]"
      ]
     },
     "execution_count": 60,
     "metadata": {},
     "output_type": "execute_result"
    }
   ],
   "source": [
    "def words(ListofWords):\n",
    "    return list(map(lambda x : len(x),l))\n",
    "\n",
    "l = [ \"ab\", \"cde\", \"erty\"]\n",
    "words(l)"
   ]
  },
  {
   "cell_type": "code",
   "execution_count": null,
   "metadata": {},
   "outputs": [],
   "source": [
    "Write a Python function which takes a character (i.e. a string of length 1) and returns True if it is a vowel, False otherwise."
   ]
  },
  {
   "cell_type": "code",
   "execution_count": 59,
   "metadata": {},
   "outputs": [
    {
     "name": "stdout",
     "output_type": "stream",
     "text": [
      "Enter any character: B\n"
     ]
    },
    {
     "data": {
      "text/plain": [
       "False"
      ]
     },
     "execution_count": 59,
     "metadata": {},
     "output_type": "execute_result"
    }
   ],
   "source": [
    "def vowelornot(char):\n",
    "    if char == 'a' or char == 'e' or char == 'i' or char == 'o' or char == 'u' or char == 'A' or char == 'E' or char == 'I' or char == 'O' or char == 'U':\n",
    "        return True\n",
    "    else:\n",
    "        return False\n",
    "\n",
    "keyin_char = input(\"Enter any character: \")\n",
    "vowelornot(keyin_char)"
   ]
  }
 ],
 "metadata": {
  "kernelspec": {
   "display_name": "Python 3",
   "language": "python",
   "name": "python3"
  },
  "language_info": {
   "codemirror_mode": {
    "name": "ipython",
    "version": 3
   },
   "file_extension": ".py",
   "mimetype": "text/x-python",
   "name": "python",
   "nbconvert_exporter": "python",
   "pygments_lexer": "ipython3",
   "version": "3.8.3"
  }
 },
 "nbformat": 4,
 "nbformat_minor": 4
}
